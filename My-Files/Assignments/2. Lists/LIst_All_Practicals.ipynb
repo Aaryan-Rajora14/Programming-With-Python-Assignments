{
 "cells": [
  {
   "cell_type": "markdown",
   "id": "0e0b2502-e1c5-4577-a8dc-a996df3e4099",
   "metadata": {},
   "source": [
    "# Assignment 2"
   ]
  },
  {
   "cell_type": "markdown",
   "id": "d98b0ca8-8b02-4b1a-88a9-066e47b88d38",
   "metadata": {},
   "source": [
    "### 1.Given a list, write a Python program to swap first and last element of the list."
   ]
  },
  {
   "cell_type": "code",
   "execution_count": 50,
   "id": "5d823996-4863-467c-9132-96af749676c1",
   "metadata": {},
   "outputs": [
    {
     "name": "stdout",
     "output_type": "stream",
     "text": [
      "Original Sports List:['Badminton', 'Hockey', 'Cricket', 'Racing', 'Football', 'Basketball']\n",
      "Modified Sports LIst: ['Basketball', 'Hockey', 'Cricket', 'Racing', 'Football', 'Badminton']\n"
     ]
    }
   ],
   "source": [
    "Sports = [\"Badminton\",\"Hockey\",\"Cricket\",\"Racing\",\"Football\",\"Basketball\"]\n",
    "\n",
    "print(f'Original Sports List:{Sports}')\n",
    "\n",
    "Saved_sport = Sports[0]\n",
    "Sports[0] = Sports[-1]\n",
    "Sports[-1] = Saved_sport\n",
    "\n",
    "print(f\"Modified Sports LIst: {Sports}\")"
   ]
  },
  {
   "cell_type": "markdown",
   "id": "40886c4a-df93-45a8-8a93-b02234c7b350",
   "metadata": {},
   "source": [
    "### 2. Append\n",
    " - Create an empty list named my_list.\n",
    " - Append the integers 1, 2, and 3 to the list.\n",
    " - Print the final contents of the list.\n"
   ]
  },
  {
   "cell_type": "code",
   "execution_count": 51,
   "id": "7376e9ea-bc18-47ed-8f70-9e14fe600b23",
   "metadata": {},
   "outputs": [
    {
     "name": "stdout",
     "output_type": "stream",
     "text": [
      "[1, 2, 3]\n"
     ]
    }
   ],
   "source": [
    "my_list = []\n",
    "my_list.extend([1,2,3])\n",
    "print(my_list)"
   ]
  },
  {
   "cell_type": "markdown",
   "id": "d3a4ec96-2195-48e4-90a6-8f1f42e5ad04",
   "metadata": {},
   "source": [
    "### 3. Given the list numbers = [4, 2, 7, 1, 9], use a list function to sort it in decending order. Print the sorted list."
   ]
  },
  {
   "cell_type": "code",
   "execution_count": 52,
   "id": "fa208768-b9e8-4b32-9ee9-f284226b7a93",
   "metadata": {},
   "outputs": [
    {
     "name": "stdout",
     "output_type": "stream",
     "text": [
      "[9, 7, 4, 2, 1]\n"
     ]
    }
   ],
   "source": [
    "numbers = [4, 2, 7, 1, 9]\n",
    "\n",
    "numbers.sort(reverse=True)\n",
    "print(numbers)"
   ]
  },
  {
   "cell_type": "markdown",
   "id": "5d267c29-89e7-4d0a-b412-ae8baa3d9ad4",
   "metadata": {},
   "source": [
    "### 4. Create a list named fruits with elements 'apple', 'banana', 'orange', 'grape', and 'kiwi'.Use list slicing to create a new list containing the first three fruits.Print the new list."
   ]
  },
  {
   "cell_type": "code",
   "execution_count": 53,
   "id": "b63af880-d5a1-49e4-ae48-22626abbbe42",
   "metadata": {},
   "outputs": [
    {
     "name": "stdout",
     "output_type": "stream",
     "text": [
      "['apple', 'banana', 'orange']\n"
     ]
    }
   ],
   "source": [
    "fruits=['apple', 'banana', 'orange', 'grape', 'kiwi']\n",
    "print(fruits[0:3])"
   ]
  },
  {
   "cell_type": "markdown",
   "id": "5faf0286-de30-427a-9c95-4e11e86f9f4d",
   "metadata": {},
   "source": [
    "### 5. Create a list named colors with elements 'red', 'green', 'blue', and 'yellow'.Replace 'green' with 'purple' in the list.Print the modified list."
   ]
  },
  {
   "cell_type": "code",
   "execution_count": 54,
   "id": "50c4fa19-ea70-4b60-91a3-aba2511ebc81",
   "metadata": {},
   "outputs": [
    {
     "name": "stdout",
     "output_type": "stream",
     "text": [
      "['red', 'purple', 'blue', 'yellow']\n"
     ]
    }
   ],
   "source": [
    "colours = ['red', 'green', 'blue','yellow']\n",
    "\n",
    "colours[1]='purple'\n",
    "print(colours)"
   ]
  },
  {
   "cell_type": "markdown",
   "id": "8f113b52-befe-4ba0-82e4-a495d18460dc",
   "metadata": {},
   "source": [
    "### 6. Create two lists, list1 and list2, with any elements of your choice. Concatenate the two lists to create a new list named combined_list. Print the combined_list."
   ]
  },
  {
   "cell_type": "code",
   "execution_count": 55,
   "id": "7362d47a-cc82-4924-9adc-4d2771cb3a19",
   "metadata": {},
   "outputs": [
    {
     "name": "stdout",
     "output_type": "stream",
     "text": [
      "The Modified list :-\n",
      " ['Badminton', 'Hockey', 'Cricket', 'Racing', 'Football', 'Basketball', 'apple', 'banana', 'orange', 'grape', 'kiwi']\n"
     ]
    }
   ],
   "source": [
    "list1 = [\"Badminton\",\"Hockey\",\"Cricket\",\"Racing\",\"Football\",\"Basketball\"]\n",
    "list2 = ['apple', 'banana', 'orange', 'grape', 'kiwi']\n",
    "\n",
    "combined_list= list1 + list2\n",
    "\n",
    "print(f\"The Modified list :-\\n {combined_list}\")\n"
   ]
  },
  {
   "cell_type": "markdown",
   "id": "39a4a8f7-a2a0-4b7b-9783-c52dd5d50bfe",
   "metadata": {},
   "source": [
    "### 7. Given the list numbers = [10, 20, 30, 40, 50], remove the element '30'.Print the modified list."
   ]
  },
  {
   "cell_type": "code",
   "execution_count": 56,
   "id": "b3e7bc7e-e91c-4298-9867-f2a731682385",
   "metadata": {},
   "outputs": [
    {
     "name": "stdout",
     "output_type": "stream",
     "text": [
      "[10, 20, 40, 50]\n"
     ]
    }
   ],
   "source": [
    "numbers = [10, 20, 30, 40, 50]\n",
    "numbers.remove(30)\n",
    "print(numbers)"
   ]
  },
  {
   "cell_type": "markdown",
   "id": "7e263271-639f-4367-8918-85b5dbfc2f7c",
   "metadata": {},
   "source": [
    "### 8. Given the list letters = ['a', 'b', 'c', 'd', 'e'], reverse the order of its elements.Print the reversed list."
   ]
  },
  {
   "cell_type": "code",
   "execution_count": 57,
   "id": "93728c4b-6913-4995-94b7-e2748452ec3f",
   "metadata": {},
   "outputs": [
    {
     "name": "stdout",
     "output_type": "stream",
     "text": [
      "['e', 'd', 'c', 'b', 'a']\n"
     ]
    }
   ],
   "source": [
    "letters = ['a', 'b', 'c', 'd', 'e']\n",
    "\n",
    "print(letters[::-1])"
   ]
  },
  {
   "cell_type": "markdown",
   "id": "756ec88d-4627-4be9-aeea-375961d88119",
   "metadata": {},
   "source": [
    "### 9. Create a list named numbers with repeated occurrences of the number 7.Check how many times the number 7 appears in the list. Print the count."
   ]
  },
  {
   "cell_type": "code",
   "execution_count": 58,
   "id": "39918b3a-2467-4a6b-ab83-80b270b8df3f",
   "metadata": {},
   "outputs": [
    {
     "name": "stdout",
     "output_type": "stream",
     "text": [
      "4\n"
     ]
    }
   ],
   "source": [
    "numbers = [1,2,7,3,8,7,5,9,7,4,12,7]\n",
    "print(numbers.count(7))"
   ]
  },
  {
   "cell_type": "markdown",
   "id": "6502d19b",
   "metadata": {},
   "source": [
    "### 10. Write a Python program to find sum of elements in list?"
   ]
  },
  {
   "cell_type": "code",
   "execution_count": 59,
   "id": "04520869",
   "metadata": {},
   "outputs": [
    {
     "data": {
      "text/plain": [
       "72"
      ]
     },
     "execution_count": 59,
     "metadata": {},
     "output_type": "execute_result"
    }
   ],
   "source": [
    "sum(numbers)"
   ]
  },
  {
   "cell_type": "markdown",
   "id": "1dbeb04a-c7fe-421f-beae-70495012b157",
   "metadata": {},
   "source": [
    "### 11.\tWrite a Python program to Multiply all numbers in the list? "
   ]
  },
  {
   "cell_type": "code",
   "execution_count": 60,
   "id": "13900c81-4f76-45cc-92ce-4c104d641e22",
   "metadata": {},
   "outputs": [
    {
     "name": "stdout",
     "output_type": "stream",
     "text": [
      "248935680\n"
     ]
    }
   ],
   "source": [
    "numbers = [1,2,7,3,8,7,5,9,7,4,12,7]\n",
    "mn=1\n",
    "i=0\n",
    "while i < len(numbers):\n",
    "    mn *= numbers[i]\n",
    "    i+=1\n",
    "    \n",
    "print(mn)"
   ]
  },
  {
   "cell_type": "markdown",
   "id": "c0ac5d38-0eed-4726-ae17-c31b910db982",
   "metadata": {},
   "source": [
    "### 12.\tWrite a Python program to find smallest number in a list?"
   ]
  },
  {
   "cell_type": "code",
   "execution_count": 61,
   "id": "2604d338-ed7f-4829-9664-bde10fd85062",
   "metadata": {},
   "outputs": [
    {
     "data": {
      "text/plain": [
       "1"
      ]
     },
     "execution_count": 61,
     "metadata": {},
     "output_type": "execute_result"
    }
   ],
   "source": [
    "min(numbers)"
   ]
  },
  {
   "cell_type": "markdown",
   "id": "7d4a8c54-92ab-4ea7-bef1-8314a9f2c6d0",
   "metadata": {},
   "source": [
    "### 13.\tWrite a Python program to find largest number in a list?"
   ]
  },
  {
   "cell_type": "code",
   "execution_count": 62,
   "id": "9a8bbf44-7600-48b2-94a4-72e480132408",
   "metadata": {},
   "outputs": [
    {
     "data": {
      "text/plain": [
       "12"
      ]
     },
     "execution_count": 62,
     "metadata": {},
     "output_type": "execute_result"
    }
   ],
   "source": [
    "max(numbers)"
   ]
  },
  {
   "cell_type": "markdown",
   "id": "51fcada0-4802-40dd-8357-d8fdb1b2604c",
   "metadata": {},
   "source": [
    "### 14.\tWrite a Python program to find second largest number in a list?"
   ]
  },
  {
   "cell_type": "code",
   "execution_count": 63,
   "id": "6c8ede15-f3dd-40f2-81f6-b22c07a33519",
   "metadata": {},
   "outputs": [
    {
     "name": "stdout",
     "output_type": "stream",
     "text": [
      "9\n"
     ]
    }
   ],
   "source": [
    "numbers = [1,2,7,3,8,7,5,9,7,4,12,7]\n",
    "numbers.sort()\n",
    "sl=numbers[-2]\n",
    "print(sl)"
   ]
  },
  {
   "cell_type": "markdown",
   "id": "1ea9aa32-ec74-417d-8ce1-b34f94f41b98",
   "metadata": {},
   "source": [
    "### 15.\tWrite a Python program to find N largest elements from a list?"
   ]
  },
  {
   "cell_type": "code",
   "execution_count": 64,
   "id": "3efab899-2e48-441f-b2a6-75f8530ef696",
   "metadata": {},
   "outputs": [
    {
     "name": "stdout",
     "output_type": "stream",
     "text": [
      "[12, 9, 8, 7, 7, 7, 7, 5, 4, 3, 2, 1]\n"
     ]
    }
   ],
   "source": [
    "numbers.sort(reverse=True)\n",
    "print(numbers)"
   ]
  },
  {
   "cell_type": "markdown",
   "id": "8b511cee-bc7f-4a24-a480-ca393abe172e",
   "metadata": {},
   "source": [
    "### 16.\tWrite a Python program to print even numbers in a list?"
   ]
  },
  {
   "cell_type": "code",
   "execution_count": 65,
   "id": "e00b7895-cdc0-44d2-82a7-ef0efd79fbe5",
   "metadata": {},
   "outputs": [
    {
     "name": "stdout",
     "output_type": "stream",
     "text": [
      "12\n",
      "8\n",
      "4\n",
      "2\n"
     ]
    }
   ],
   "source": [
    "for num in numbers:\n",
    "    if num%2==0:\n",
    "        print(num)"
   ]
  },
  {
   "cell_type": "markdown",
   "id": "925c92bd-a161-4698-9493-1af22716e938",
   "metadata": {},
   "source": [
    "### 17.\tWrite a Python program to print odd numbers in a List?"
   ]
  },
  {
   "cell_type": "code",
   "execution_count": 66,
   "id": "facb64f8-815c-47a4-96d1-a9afb3403e71",
   "metadata": {},
   "outputs": [
    {
     "name": "stdout",
     "output_type": "stream",
     "text": [
      "9\n",
      "7\n",
      "7\n",
      "7\n",
      "7\n",
      "5\n",
      "3\n",
      "1\n"
     ]
    }
   ],
   "source": [
    "for num in numbers:\n",
    "    if num%2!=0:\n",
    "        print(num)"
   ]
  },
  {
   "cell_type": "markdown",
   "id": "74fe3f8f-5a70-45f4-a6ea-20ed8805c911",
   "metadata": {},
   "source": [
    "### 18.\tWrite a Python program to Remove empty List from List?"
   ]
  },
  {
   "cell_type": "code",
   "execution_count": 67,
   "id": "8d75909b-05d4-4917-a3d0-0090a291b33b",
   "metadata": {},
   "outputs": [
    {
     "name": "stdout",
     "output_type": "stream",
     "text": [
      "['Hello', 'Hi', 1, 4, 2, 54, 23]\n"
     ]
    }
   ],
   "source": [
    "listA=[\"Hello\",\"Hi\",[],1,4,2,54,23]\n",
    "listA.remove([])\n",
    "print(listA)"
   ]
  },
  {
   "cell_type": "markdown",
   "id": "237144a9-bf31-41df-84a4-f2093ac8a37d",
   "metadata": {},
   "source": [
    "### 19.\tWrite a Python program to Cloning or Copying a list?"
   ]
  },
  {
   "cell_type": "code",
   "execution_count": 68,
   "id": "f33b98ca-f478-4402-8ddf-dc275df1440b",
   "metadata": {},
   "outputs": [
    {
     "name": "stdout",
     "output_type": "stream",
     "text": [
      "['Hello', 'Hi', 1, 4, 2, 54, 23]\n"
     ]
    }
   ],
   "source": [
    "listB=[]\n",
    "listB=listA.copy()\n",
    "print(listB)"
   ]
  },
  {
   "cell_type": "markdown",
   "id": "019a198f-5947-4339-b64e-7c519a2ae966",
   "metadata": {},
   "source": [
    "### 20.\tWrite a Python program to Count occurrences of an element in a list?"
   ]
  },
  {
   "cell_type": "code",
   "execution_count": 69,
   "id": "112e7f23-7460-46de-82ea-216bbefbf990",
   "metadata": {},
   "outputs": [
    {
     "data": {
      "text/plain": [
       "3"
      ]
     },
     "execution_count": 69,
     "metadata": {},
     "output_type": "execute_result"
    }
   ],
   "source": [
    "lA=[\"Hello\",\"Hi\",1,1,4,2,54,\"Aaryan\",4,'Aaryan',23,\"Hello\",\"Aaryan\"]\n",
    "lA.count('Aaryan')"
   ]
  },
  {
   "cell_type": "markdown",
   "id": "f2314691-3e46-47b1-b868-9963e6a89e38",
   "metadata": {},
   "source": [
    "### 21.\tReverse a list in Python"
   ]
  },
  {
   "cell_type": "code",
   "execution_count": 70,
   "id": "31af52ea-dfd8-4d21-8daa-86b9af05c71b",
   "metadata": {},
   "outputs": [
    {
     "name": "stdout",
     "output_type": "stream",
     "text": [
      "['Aaryan', 'Hello', 23, 'Aaryan', 4, 'Aaryan', 54, 2, 4, 1, 1, 'Hi', 'Hello']\n"
     ]
    }
   ],
   "source": [
    "print(lA[::-1])"
   ]
  },
  {
   "cell_type": "markdown",
   "id": "5b674731-bd54-4a46-834b-5429e0cf2b03",
   "metadata": {},
   "source": [
    "### 22.\tConcatenate two lists index-wise\n",
    "\n",
    "- Given:\n",
    "- list1 = [\"M\", \"na\", \"i\", \"Ke\"]\n",
    "- list2 = [\"y\", \"me\", \"s\", \"lly\"]\n",
    "- Expected output: ['My', 'name', 'is', 'Kelly']\n"
   ]
  },
  {
   "cell_type": "code",
   "execution_count": 2,
   "id": "60569ced-6d79-4e2c-b83f-0fb18a2d0241",
   "metadata": {},
   "outputs": [
    {
     "name": "stdout",
     "output_type": "stream",
     "text": [
      "['My', 'name', 'is', 'Kelly']\n"
     ]
    }
   ],
   "source": [
    "list1 = [\"M\", \"na\", \"i\", \"Ke\"]\n",
    "list2 = [\"y\", \"me\", \"s\", \"lly\"]\n",
    "\n",
    "list3= [i + j for i,j in zip(list1, list2)]\n",
    "print(list3)"
   ]
  },
  {
   "cell_type": "markdown",
   "id": "b8bb09c5-04d9-4ddb-a27f-9ec59f536a8b",
   "metadata": {},
   "source": [
    "### 23.\tTurn every item of a list (user input) into its square"
   ]
  },
  {
   "cell_type": "code",
   "execution_count": 1,
   "id": "de016df9-f64b-45e3-9aa2-9b10b184bedb",
   "metadata": {},
   "outputs": [
    {
     "name": "stdout",
     "output_type": "stream",
     "text": [
      "Enter Numbers:  23,45,67\n"
     ]
    },
    {
     "name": "stdout",
     "output_type": "stream",
     "text": [
      "529\n",
      "2025\n",
      "4489\n"
     ]
    }
   ],
   "source": [
    "numlist=list(map(int, input('Enter Numbers: ').split(\",\")))\n",
    "for i in numlist:\n",
    "    print(i**2)\n"
   ]
  },
  {
   "cell_type": "markdown",
   "id": "ab6f25a7-fe1a-4773-af35-78f184e86bcd",
   "metadata": {},
   "source": [
    "### 24.\tConcatenate two lists in the following order\n",
    "Given:\n",
    "- list1 = [\"Hello \", \"take \"]\n",
    "- list2 = [\"Dear\", \"Sir\"]\n",
    "- Expected output: ['Hello Dear', 'Hello Sir', 'take Dear', 'take Sir']\n"
   ]
  },
  {
   "cell_type": "code",
   "execution_count": 6,
   "id": "650b3b09-9c37-4fbd-8d40-45485e782975",
   "metadata": {},
   "outputs": [
    {
     "name": "stdout",
     "output_type": "stream",
     "text": [
      "[['Hello Dear', 'take Sir', 'take Dear', 'Hello Sir']]\n"
     ]
    }
   ],
   "source": [
    "list1 = [\"Hello \", \"take \"]\n",
    "list2 = [\"Dear\", \"Sir\"]\n",
    "\n",
    "list3= [i + j for i, j in zip(list1, list2)]\n",
    "\n",
    "list4=list1[::-1]\n",
    "\n",
    "list5 = [i + j for i, j in zip(list4, list2)]\n",
    "\n",
    "list6=[list3+list5]\n",
    "print(list6)\n"
   ]
  },
  {
   "cell_type": "markdown",
   "id": "b2e337d3-7a48-4d4f-98b3-4adf437103c2",
   "metadata": {},
   "source": [
    "### 25.\tIterate both lists simultaneously\n",
    "- Given:\n",
    "- list1 = [10, 20, 30, 40]\n",
    "- list2 = [100, 200, 300, 400]\n",
    "- Expected output: \n",
    "10 400\n",
    "20 300\n",
    "30 200\n",
    "40 100\n"
   ]
  },
  {
   "cell_type": "code",
   "execution_count": 8,
   "id": "5f0cbaa7-494b-4065-87ff-fbe2422e7394",
   "metadata": {},
   "outputs": [
    {
     "name": "stdout",
     "output_type": "stream",
     "text": [
      "10 400\n",
      "20 300\n",
      "30 200\n",
      "40 100\n"
     ]
    }
   ],
   "source": [
    "lista = [10, 20, 30, 40]\n",
    "listb = [100, 200, 300, 400]\n",
    "listb=listb[::-1]\n",
    "\n",
    "for i, j in zip(lista, listb):\n",
    "    print(i, j)"
   ]
  },
  {
   "cell_type": "markdown",
   "id": "75910156-f974-4a5a-8e12-7ca669004972",
   "metadata": {},
   "source": [
    "### 26.\tRemove empty strings from the list of strings: list1 = [\"Mike\", \"\", \"Emma\", \"Kelly\", \"\", \"Brad\"]"
   ]
  },
  {
   "cell_type": "code",
   "execution_count": 15,
   "id": "cf9d7b19",
   "metadata": {},
   "outputs": [
    {
     "name": "stdout",
     "output_type": "stream",
     "text": [
      "['Mike', 'Emma', 'Kelly', '', 'Brad']\n",
      "['Mike', 'Emma', 'Kelly', 'Brad']\n"
     ]
    }
   ],
   "source": [
    "list1 = [\"Mike\", \"\", \"Emma\", \"Kelly\", \"\", \"Brad\"]\n",
    "for i in list1:\n",
    "    if i == \"\":\n",
    "        list1.remove(i)\n",
    "        print(list1)"
   ]
  },
  {
   "cell_type": "markdown",
   "id": "f413fdd7",
   "metadata": {},
   "source": [
    "### 27.\tWrite a program to add item 7000 after 6000 in the following Python List [10, 20, [300, 400, [5000, 6000], 500], 30, 40]"
   ]
  },
  {
   "cell_type": "code",
   "execution_count": 31,
   "id": "cbfa3991",
   "metadata": {},
   "outputs": [
    {
     "name": "stdout",
     "output_type": "stream",
     "text": [
      "[10, 20, [300, 400, [5000, 6000, 7000], 500], 30, 40]\n"
     ]
    }
   ],
   "source": [
    "lst = [10, 20, [300, 400, [5000, 6000], 500], 30, 40]\n",
    "lst[2][2].insert(2, 7000)\n",
    "print(lst)"
   ]
  },
  {
   "cell_type": "markdown",
   "id": "9ab2346b",
   "metadata": {},
   "source": [
    "### 28.\tYou have given a nested list. Write a program to extend it by adding the sublist [\"h\", \"i\", \"j\"] in such a way that it will look like the following list.\n",
    "Given List:\n",
    "list1 = [\"a\", \"b\", [\"c\", [\"d\", \"e\", [\"f\", \"g\"], \"k\"], \"l\"], \"m\", \"n\"]\n",
    "# sub list to add\n",
    "sub_list = [\"h\", \"i\", \"j\"]\n",
    "Expected Output: \n",
    "['a', 'b', ['c', ['d', 'e', ['f', 'g', 'h', 'i', 'j'], 'k'], 'l'], 'm', 'n']\n"
   ]
  },
  {
   "cell_type": "code",
   "execution_count": 33,
   "id": "0eb42386",
   "metadata": {},
   "outputs": [
    {
     "name": "stdout",
     "output_type": "stream",
     "text": [
      "['a', 'b', ['c', ['d', 'e', ['f', 'g', ['h', 'i', 'j']], 'k'], 'l'], 'm', 'n']\n"
     ]
    }
   ],
   "source": [
    "list1 = [\"a\", \"b\", [\"c\", [\"d\", \"e\", [\"f\", \"g\"], \"k\"], \"l\"], \"m\", \"n\"]\n",
    "sub_list = [\"h\", \"i\", \"j\"]\n",
    "\n",
    "list1[2][1][2].insert(2, sub_list)\n",
    "print(list1)"
   ]
  },
  {
   "cell_type": "markdown",
   "id": "3bb9ae3c-a66e-4f03-8475-cf6bb2fb65a3",
   "metadata": {},
   "source": [
    "### 29.\tYou have given a Python list. Write a program to find value 20 in the list, and if it is present, replace it with 200. Only update the first occurrence of an item.\n",
    "Given: list1 = [5, 10, 15, 20, 25, 50, 20\n"
   ]
  },
  {
   "cell_type": "code",
   "execution_count": 9,
   "id": "693f57cd-0969-4f9a-ac5a-a72c11f694ac",
   "metadata": {},
   "outputs": [
    {
     "name": "stdout",
     "output_type": "stream",
     "text": [
      "[5, 10, 15, 200, 25, 50, 20]\n"
     ]
    }
   ],
   "source": [
    "list1 = [5, 10, 15, 20, 25, 50, 20]\n",
    "a=list1.index(20)\n",
    "list1.remove(20)\n",
    "list1.insert(a, 200)\n",
    "print(list1)"
   ]
  },
  {
   "cell_type": "markdown",
   "id": "c86fd318-7923-4578-9820-49bacef9fd5d",
   "metadata": {},
   "source": [
    "### 30.\t Given a Python list, write a program to remove all occurrences of item 20.\n",
    "Given: list1 = [5, 20, 15, 20, 25, 50, 20]\n"
   ]
  },
  {
   "cell_type": "code",
   "execution_count": 13,
   "id": "e9f38a79-3016-46c9-b2aa-4c2be7284e98",
   "metadata": {},
   "outputs": [
    {
     "name": "stdout",
     "output_type": "stream",
     "text": [
      "[5, 15, 25, 50]\n"
     ]
    }
   ],
   "source": [
    "list1 = [5, 20, 15, 20, 25, 50, 20]\n",
    "for i in list1:\n",
    "    if i == 20:\n",
    "        list1.remove(i)\n",
    "print(list1)"
   ]
  },
  {
   "cell_type": "markdown",
   "id": "7710b17a-4317-4197-9e34-9c8c1d43b4a2",
   "metadata": {},
   "source": [
    "### 31.\tRotate the characters in a string by a given number (e.g., “hello” rotated by 2 becomes “lohel”)."
   ]
  },
  {
   "cell_type": "markdown",
   "id": "a686181b-aa25-4eda-99a3-d0b8562e975c",
   "metadata": {},
   "source": [
    "### 32.\t Find the minimum and maximum values in a list of integers."
   ]
  },
  {
   "cell_type": "code",
   "execution_count": 15,
   "id": "4f02b463-de90-4a56-8c53-d7b0946c5791",
   "metadata": {},
   "outputs": [
    {
     "name": "stdout",
     "output_type": "stream",
     "text": [
      "Enter Your String:  AARYAN\n",
      "Enter Rotation Index:  4\n"
     ]
    },
    {
     "name": "stdout",
     "output_type": "stream",
     "text": [
      "RYANAA\n"
     ]
    }
   ],
   "source": [
    "original_string = input(\"Enter Your String: \")\n",
    "rn = int(input('Enter Rotation Index: '))\n",
    "length = len(original_string)\n",
    "r = rn % length\n",
    "\n",
    "rotated_string = original_string[-r:] + original_string[:-r]\n",
    "print(rotated_string)"
   ]
  },
  {
   "cell_type": "markdown",
   "id": "290bfd44-381d-4fc4-b33c-caea43f605a5",
   "metadata": {},
   "source": [
    "### 32.\t Find the minimum and maximum values in a list of integers."
   ]
  },
  {
   "cell_type": "code",
   "execution_count": 18,
   "id": "3897ff76-3638-4167-9735-40b8a041da15",
   "metadata": {},
   "outputs": [
    {
     "name": "stdout",
     "output_type": "stream",
     "text": [
      "975\n",
      "121\n"
     ]
    }
   ],
   "source": [
    "list1 = [122,546,899,234,765,234,121,467,343,975,233]\n",
    "print(max(list1))\n",
    "print(min(list1))\n"
   ]
  },
  {
   "cell_type": "markdown",
   "id": "deef2d5f-99b0-4fbe-9e9b-cb9305605c91",
   "metadata": {},
   "source": [
    "### 33.\tImplement a method to perform basic string compression using the counts of repeated characters. For example, the string aabcccccaaa would become a2b1c5a3."
   ]
  },
  {
   "cell_type": "code",
   "execution_count": 21,
   "id": "38e566d4-6012-4410-a77f-e23c522f296f",
   "metadata": {},
   "outputs": [
    {
     "name": "stdout",
     "output_type": "stream",
     "text": [
      "Enter Your String:  hhhhheeeeellllloooo wwwwoooorrrrllldd\n"
     ]
    },
    {
     "name": "stdout",
     "output_type": "stream",
     "text": [
      "h5e5l5o4 1w4o4r4l3d2\n"
     ]
    }
   ],
   "source": [
    "string = input(\"Enter Your String: \")\n",
    "\n",
    "compressed = \"\"\n",
    "count = 1\n",
    "for i in range(1, len(string)):\n",
    "    if string[i] == string[i - 1]:\n",
    "        count += 1\n",
    "    else:\n",
    "        compressed += string[i - 1] + str(count)\n",
    "        count = 1\n",
    "\n",
    "compressed += string[-1] + str(count)\n",
    "print(compressed)"
   ]
  },
  {
   "cell_type": "markdown",
   "id": "1cdea5aa-9f3a-4ea7-bf9d-672c3df854b1",
   "metadata": {},
   "source": [
    "### 34.\tGiven two lists, write a program to find the intersection of these two lists."
   ]
  },
  {
   "cell_type": "code",
   "execution_count": 25,
   "id": "fee01e77-03f8-488e-aab4-d9ca58c32929",
   "metadata": {},
   "outputs": [
    {
     "name": "stdout",
     "output_type": "stream",
     "text": [
      "['Ryan']\n"
     ]
    }
   ],
   "source": [
    "list1 = [\"Ryan\", \"Brad\", \"Edward\", \"Chris\"]\n",
    "list2 = [\"Robert\", \"Tom\", \"Ryan\", \"Wong\"]\n",
    "\n",
    "intersection = [name for name in list1 if name in list2]\n",
    "print(intersection)"
   ]
  },
  {
   "cell_type": "markdown",
   "id": "49fc74c8-2b66-4817-94c4-18f4a9eb76ab",
   "metadata": {},
   "source": [
    "### 35.\t Sort a list of integers without using any built-in sort functions."
   ]
  },
  {
   "cell_type": "code",
   "execution_count": 1,
   "id": "ba04397c-3b9d-476b-8257-894865a40ac0",
   "metadata": {},
   "outputs": [
    {
     "name": "stdout",
     "output_type": "stream",
     "text": [
      "Sorted list: [11, 12, 22, 25, 34, 64, 90]\n"
     ]
    }
   ],
   "source": [
    "numbers = [64, 34, 25, 12, 22, 11, 90]\n",
    "\n",
    "n = len(numbers)\n",
    "for i in range(n):\n",
    "    for j in range(0, n-i-1):\n",
    "        if numbers[j] > numbers[j+1]:\n",
    "            numbers[j], numbers[j+1] = numbers[j+1], numbers[j]\n",
    "\n",
    "print(\"Sorted list:\", numbers)"
   ]
  },
  {
   "cell_type": "code",
   "execution_count": null,
   "id": "c798e6d1",
   "metadata": {},
   "outputs": [],
   "source": []
  }
 ],
 "metadata": {
  "kernelspec": {
   "display_name": "Python 3 (ipykernel)",
   "language": "python",
   "name": "python3"
  },
  "language_info": {
   "codemirror_mode": {
    "name": "ipython",
    "version": 3
   },
   "file_extension": ".py",
   "mimetype": "text/x-python",
   "name": "python",
   "nbconvert_exporter": "python",
   "pygments_lexer": "ipython3",
   "version": "3.12.4"
  }
 },
 "nbformat": 4,
 "nbformat_minor": 5
}
