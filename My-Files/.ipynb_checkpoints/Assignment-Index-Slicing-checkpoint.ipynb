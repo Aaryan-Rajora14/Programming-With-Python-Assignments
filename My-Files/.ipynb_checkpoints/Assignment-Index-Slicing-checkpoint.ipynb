{
 "cells": [
  {
   "cell_type": "markdown",
   "id": "de284c0d-5a2c-4348-aeb5-9cd52f21f0ca",
   "metadata": {},
   "source": [
    "# Assignemnt"
   ]
  },
  {
   "cell_type": "markdown",
   "id": "6230dbcf-4d56-4d24-9d14-3efdb060986c",
   "metadata": {},
   "source": [
    "### 1.\tGiven the string \"hello\", select and print the substring \"ell\"."
   ]
  },
  {
   "cell_type": "code",
   "execution_count": 3,
   "id": "4cd0abcc-1482-418e-b6d4-f6367ff2e6ee",
   "metadata": {},
   "outputs": [
    {
     "name": "stdout",
     "output_type": "stream",
     "text": [
      "ell\n"
     ]
    }
   ],
   "source": [
    "a = \"hello\"\n",
    "print(a[1:4])"
   ]
  },
  {
   "cell_type": "markdown",
   "id": "2d129e5a-76e7-4356-bf21-ac4a80b5a20d",
   "metadata": {},
   "source": [
    "### 2.\tGiven the string \"python\", select and print the first three characters."
   ]
  },
  {
   "cell_type": "code",
   "execution_count": 5,
   "id": "7e9c5036-2b9c-44d9-8ec9-4c8e45f1048a",
   "metadata": {},
   "outputs": [
    {
     "name": "stdout",
     "output_type": "stream",
     "text": [
      "pyt\n"
     ]
    }
   ],
   "source": [
    "b = \"python\"\n",
    "print(b[0:3])"
   ]
  },
  {
   "cell_type": "markdown",
   "id": "430c3440-8e02-4053-b006-07e412ff3cd3",
   "metadata": {},
   "source": [
    "### 3.\tGiven the string \"programming\", select and print the last four characters."
   ]
  },
  {
   "cell_type": "code",
   "execution_count": 7,
   "id": "2bcc98fe-5401-4506-80c7-0aa4c3a088af",
   "metadata": {},
   "outputs": [
    {
     "name": "stdout",
     "output_type": "stream",
     "text": [
      "ming\n"
     ]
    }
   ],
   "source": [
    "c = \"programming\"\n",
    "print(c[7:])"
   ]
  },
  {
   "cell_type": "markdown",
   "id": "4909dcd1-7d2f-4117-abbc-2ab932c1c69b",
   "metadata": {},
   "source": [
    "### 4.\tGiven the string \"banana\", select and print every second character.slicing.\r\n",
    "\r\n"
   ]
  },
  {
   "cell_type": "code",
   "execution_count": 35,
   "id": "faeaa7b7-1296-46e7-af49-12a540df4642",
   "metadata": {},
   "outputs": [
    {
     "name": "stdout",
     "output_type": "stream",
     "text": [
      "aaa\n"
     ]
    }
   ],
   "source": [
    "d = \"banana\"\n",
    "print(d[1::2])"
   ]
  },
  {
   "cell_type": "markdown",
   "id": "f8406ce0-dbac-4765-b898-6b1f65052db5",
   "metadata": {},
   "source": [
    "### 5.\tGiven the string \"abcdefgh\", select and print the characters from index 2 to 5."
   ]
  },
  {
   "cell_type": "code",
   "execution_count": 36,
   "id": "687a59e3-a24c-45a9-8c5d-aabf6c772354",
   "metadata": {},
   "outputs": [
    {
     "name": "stdout",
     "output_type": "stream",
     "text": [
      "cdef\n"
     ]
    }
   ],
   "source": [
    "e = \"abcdefgh\"\n",
    "print(e[2:6])"
   ]
  },
  {
   "cell_type": "markdown",
   "id": "469ec751-6159-46dc-b6aa-44d1a0333d32",
   "metadata": {},
   "source": [
    "### 6.\tGiven the string \"goodbye\", select and print the characters from index 1 to 4 in reverse order."
   ]
  },
  {
   "cell_type": "code",
   "execution_count": 49,
   "id": "eab5e488-ca41-4168-9b54-ff5c465556b9",
   "metadata": {},
   "outputs": [
    {
     "name": "stdout",
     "output_type": "stream",
     "text": [
      "bdoo\n"
     ]
    }
   ],
   "source": [
    "f = \"goodbye\"\n",
    "print(f[-3:-7:-1])"
   ]
  },
  {
   "cell_type": "markdown",
   "id": "5ab9551a-de39-4584-99ea-337eaf871e87",
   "metadata": {},
   "source": [
    "### 7.\tGiven the string \"hello world\", select and print the characters from index 6 to the end of the string."
   ]
  },
  {
   "cell_type": "code",
   "execution_count": 50,
   "id": "8d83615f-51b3-48d2-a4e0-4f1b46a8a79c",
   "metadata": {},
   "outputs": [
    {
     "name": "stdout",
     "output_type": "stream",
     "text": [
      "world\n"
     ]
    }
   ],
   "source": [
    "g = \"hello world\"\n",
    "print(g[6:])"
   ]
  },
  {
   "cell_type": "markdown",
   "id": "8fd660cd-f5c9-4c07-a9a5-0774da822022",
   "metadata": {},
   "source": [
    "### 8.\tGiven the string \"abcdefg\", select and print the characters from index 1 to 6, skipping every second character."
   ]
  },
  {
   "cell_type": "code",
   "execution_count": 51,
   "id": "e641c4e7-f79e-40f0-8046-c40b08d156d4",
   "metadata": {},
   "outputs": [
    {
     "name": "stdout",
     "output_type": "stream",
     "text": [
      "bdf\n"
     ]
    }
   ],
   "source": [
    "h = \"abcdefg\"\n",
    "print(h[1:7:2])"
   ]
  },
  {
   "cell_type": "markdown",
   "id": "38a9f74b-ed41-454a-ba57-9f29e262dea9",
   "metadata": {},
   "source": [
    "### 10.\tGiven the string \"python programming\", select and print the characters from index 7 to 16."
   ]
  },
  {
   "cell_type": "code",
   "execution_count": 55,
   "id": "6974deb2-aff8-4c9e-adcd-8176e92e6c3f",
   "metadata": {},
   "outputs": [
    {
     "name": "stdout",
     "output_type": "stream",
     "text": [
      "programmin\n"
     ]
    }
   ],
   "source": [
    "i = \"python programming\"\n",
    "print(i[7:17])"
   ]
  },
  {
   "cell_type": "markdown",
   "id": "b7a67b60-51a0-4a4a-977f-ab0350fd42bc",
   "metadata": {},
   "source": [
    "### 11.\tGiven the string \"Welcome to the world of programming\", write an index slice to get the substring \"ecmo tew\""
   ]
  },
  {
   "cell_type": "code",
   "execution_count": 59,
   "id": "4c3c132e-336d-4f94-8d43-1cbf6e731d5f",
   "metadata": {},
   "outputs": [
    {
     "name": "stdout",
     "output_type": "stream",
     "text": [
      "ecm otew\n"
     ]
    }
   ],
   "source": [
    "j = \"Welcome to the world of programming\"\n",
    "print(j[1:16:2])"
   ]
  },
  {
   "cell_type": "markdown",
   "id": "bed7f583-cbf5-4d51-beaa-1ca042098887",
   "metadata": {},
   "source": [
    "### 12.\tGiven the string \"Hello,Python!\", write an index slice to get the substring \"oyo\""
   ]
  },
  {
   "cell_type": "code",
   "execution_count": 34,
   "id": "713ac01b-3534-4f81-b23e-d57db73c0dea",
   "metadata": {},
   "outputs": [
    {
     "name": "stdout",
     "output_type": "stream",
     "text": [
      "oyo\n"
     ]
    }
   ],
   "source": [
    "l = \"Hello,Python!\"\n",
    "print(l[4::3])"
   ]
  },
  {
   "cell_type": "markdown",
   "id": "2d8414f4-3ac1-4557-8ec5-7d1ba37fcfb7",
   "metadata": {},
   "source": [
    "### 13.\tGiven the string \"Computer Science\", write an index slice to get the substring \"Science\"."
   ]
  },
  {
   "cell_type": "code",
   "execution_count": 32,
   "id": "55ef0669-ef18-4696-abe7-617399a63f4b",
   "metadata": {},
   "outputs": [
    {
     "name": "stdout",
     "output_type": "stream",
     "text": [
      "Science\n"
     ]
    }
   ],
   "source": [
    "m = \"Computer Science\"\n",
    "print(m[9:]) "
   ]
  },
  {
   "cell_type": "markdown",
   "id": "1c6ba93f-a5fa-4fea-a6f3-3df8280cb591",
   "metadata": {},
   "source": [
    "### 14.\tGiven the string \"abcd\", write an index slice to get the substring \"dcb\"."
   ]
  },
  {
   "cell_type": "code",
   "execution_count": 25,
   "id": "a77cbaee-3d55-4776-a68a-b47fb7f41b56",
   "metadata": {},
   "outputs": [
    {
     "name": "stdout",
     "output_type": "stream",
     "text": [
      "dcb\n"
     ]
    }
   ],
   "source": [
    "n = \"abcd\"\n",
    "print(n[-1:-4:-1])"
   ]
  },
  {
   "cell_type": "markdown",
   "id": "1717c696-0a83-4e37-b781-03cd885ee397",
   "metadata": {},
   "source": [
    "### 15.\tGiven the string \"abcdefa\", print the string reverse using slicing."
   ]
  },
  {
   "cell_type": "code",
   "execution_count": 12,
   "id": "62696668-483d-4e6c-82de-1552d1dfcba6",
   "metadata": {},
   "outputs": [
    {
     "name": "stdout",
     "output_type": "stream",
     "text": [
      "afedcba\n"
     ]
    }
   ],
   "source": [
    "o = \"abcdefa\"\n",
    "print(o[::-1])"
   ]
  }
 ],
 "metadata": {
  "kernelspec": {
   "display_name": "Python 3 (ipykernel)",
   "language": "python",
   "name": "python3"
  },
  "language_info": {
   "codemirror_mode": {
    "name": "ipython",
    "version": 3
   },
   "file_extension": ".py",
   "mimetype": "text/x-python",
   "name": "python",
   "nbconvert_exporter": "python",
   "pygments_lexer": "ipython3",
   "version": "3.12.4"
  }
 },
 "nbformat": 4,
 "nbformat_minor": 5
}
